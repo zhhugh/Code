{
 "cells": [
  {
   "cell_type": "code",
   "execution_count": null,
   "metadata": {},
   "outputs": [],
   "source": [
    "# 合并二叉树\n",
    "class Solution:\n",
    "    def mergeTrees(self, root1: Optional[TreeNode], root2: Optional[TreeNode]) -> Optional[TreeNode]:\n",
    "        if not root1 and not root2:\n",
    "            return\n",
    "        root = TreeNode(0)\n",
    "        if root1:\n",
    "            root.val += root1.val \n",
    "        if root2:\n",
    "            root.val += root2.val\n",
    "        root.left = self.mergeTrees(root1.left if root1 else None, root2.left if root2 else None)\n",
    "        root.right = self.mergeTrees(root1.right if root1 else None, root2.right if root2 else None)\n",
    "        return root"
   ]
  },
  {
   "cell_type": "code",
   "execution_count": null,
   "metadata": {},
   "outputs": [],
   "source": [
    "# 最大二叉树\n",
    "class Solution:\n",
    "    def constructMaximumBinaryTree(self, nums: List[int]) -> Optional[TreeNode]:\n",
    "        if not nums:\n",
    "            return\n",
    "\n",
    "        max_idx = 0\n",
    "        for i in range(len(nums)):\n",
    "            if nums[i] > nums[max_idx]:\n",
    "                max_idx = i\n",
    "        \n",
    "        root_val = nums[max_idx]\n",
    "        root = TreeNode(root_val)\n",
    "\n",
    "        root.left = self.constructMaximumBinaryTree(nums[0:max_idx])\n",
    "        root.right = self.constructMaximumBinaryTree(nums[max_idx + 1:])\n",
    "        return root\n"
   ]
  },
  {
   "cell_type": "code",
   "execution_count": null,
   "metadata": {},
   "outputs": [],
   "source": [
    "# 700. 二叉搜索树中的搜索\n",
    "\n",
    "class Solution:\n",
    "    def searchBST(self, root: Optional[TreeNode], val: int) -> Optional[TreeNode]:\n",
    "        if not root:\n",
    "            return \n",
    "        \n",
    "        if root.val == val:\n",
    "            return root\n",
    "        elif root.val > val:\n",
    "            return self.searchBST(root.left, val)\n",
    "        else:\n",
    "            return self.searchBST(root.right, val)"
   ]
  },
  {
   "cell_type": "code",
   "execution_count": null,
   "metadata": {},
   "outputs": [],
   "source": [
    "# Definition for a binary tree node.\n",
    "# class TreeNode:\n",
    "#     def __init__(self, val=0, left=None, right=None):\n",
    "#         self.val = val\n",
    "#         self.left = left\n",
    "#         self.right = right\n",
    "# 98. 验证二叉搜索树\n",
    "\n",
    "class Solution:\n",
    "    def isValidBST(self, root: Optional[TreeNode]) -> bool:\n",
    "        global pre\n",
    "        pre = -float('inf')\n",
    "        return self.dfs(root) \n",
    "\n",
    "\n",
    "    def dfs(self, root):\n",
    "        global pre\n",
    "        if not root:\n",
    "            return True\n",
    "        if not self.dfs(root.left):\n",
    "            return False\n",
    "        if root.val <= pre:\n",
    "            return False\n",
    "        pre = root.val\n",
    "        if not self.dfs(root.right):\n",
    "            return False\n",
    "        return True\n",
    "\n",
    "        "
   ]
  }
 ],
 "metadata": {
  "language_info": {
   "name": "python"
  },
  "orig_nbformat": 4
 },
 "nbformat": 4,
 "nbformat_minor": 2
}
