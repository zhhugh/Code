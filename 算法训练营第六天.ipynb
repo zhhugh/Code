{
 "cells": [
  {
   "cell_type": "code",
   "execution_count": null,
   "metadata": {},
   "outputs": [],
   "source": [
    "## 两个数组的交集\n",
    "class Solution:\n",
    "    def intersection(self, nums1: List[int], nums2: List[int]) -> List[int]:\n",
    "        cnt = {}\n",
    "        for num in nums1:\n",
    "            if num not in cnt:\n",
    "                cnt[num] = 1\n",
    "        for num in nums2:\n",
    "            if num in cnt:\n",
    "                cnt[num] = 0\n",
    "        \n",
    "        ans = []\n",
    "        for num, i in cnt.items():\n",
    "            if i == 0:\n",
    "                ans.append(num)\n",
    "        return ans"
   ]
  },
  {
   "cell_type": "code",
   "execution_count": null,
   "metadata": {},
   "outputs": [],
   "source": [
    "## 字母异位词\n",
    "# 遍历第一个字符串，将每个字符出现的次数存入字典\n",
    "# 遍历第二个字符串，抵消字典中的出现次数，如果出现新的自负或者字典中的值不等于0，则返回False\n",
    "\n",
    "class Solution:\n",
    "    def isAnagram(self, s: str, t: str) -> bool:\n",
    "        cnt = {}\n",
    "        for c in s:\n",
    "            if c in cnt:\n",
    "                cnt[c] += 1\n",
    "            else:\n",
    "                cnt[c] = 1\n",
    "        for c in t:\n",
    "            if c in cnt:\n",
    "                cnt[c] -= 1\n",
    "            else:\n",
    "                return False\n",
    "        for k, v in cnt.items():\n",
    "            if v != 0:\n",
    "                return False\n",
    "        return True\n",
    "\n",
    "        "
   ]
  },
  {
   "cell_type": "code",
   "execution_count": null,
   "metadata": {},
   "outputs": [],
   "source": [
    "# 202. 快乐数\n",
    "class Solution:\n",
    "    def isHappy(self, n: int) -> bool:\n",
    "        def compute_value(n):\n",
    "            sum = 0\n",
    "            while n:\n",
    "                sum += (n % 10) ** 2\n",
    "                n //= 10\n",
    "            return sum\n",
    "        mp = set()\n",
    "        while True:\n",
    "            mp.add(n)\n",
    "            n = compute_value(n)\n",
    "            if n == 1:\n",
    "                return True\n",
    "            if n in mp:\n",
    "                return False\n",
    "        return True"
   ]
  },
  {
   "cell_type": "code",
   "execution_count": null,
   "metadata": {},
   "outputs": [],
   "source": [
    "# 1. 两数之和\n",
    "class Solution:\n",
    "    def twoSum(self, nums: List[int], target): \n",
    "        mp = {}\n",
    "        for i, num in enumerate(nums):\n",
    "            if (target - num) in mp:\n",
    "                return [mp[target - num], i]\n",
    "            mp[num] = i\n",
    "        return [-1, -1]"
   ]
  }
 ],
 "metadata": {
  "language_info": {
   "name": "python"
  },
  "orig_nbformat": 4
 },
 "nbformat": 4,
 "nbformat_minor": 2
}
