{
 "cells": [
  {
   "cell_type": "code",
   "execution_count": null,
   "metadata": {},
   "outputs": [],
   "source": [
    "# 组合数\n",
    "class Solution:\n",
    "    def combine(self, n: int, k: int) -> List[List[int]]:\n",
    "        self.res = []\n",
    "        self.dfs(1, n, k, [])\n",
    "        return self.res\n",
    "\n",
    "    def dfs(self, i, n, k, path):\n",
    "        if k == 0:\n",
    "            self.res.append(path[:])\n",
    "            return\n",
    "\n",
    "        for j in range(i, n + 1):\n",
    "            self.dfs(j + 1, n, k - 1, path + [j])"
   ]
  }
 ],
 "metadata": {
  "language_info": {
   "name": "python"
  },
  "orig_nbformat": 4
 },
 "nbformat": 4,
 "nbformat_minor": 2
}
