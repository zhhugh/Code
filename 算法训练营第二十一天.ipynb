{
 "cells": [
  {
   "cell_type": "code",
   "execution_count": null,
   "metadata": {},
   "outputs": [],
   "source": [
    "# Definition for a binary tree node.\n",
    "# class TreeNode:\n",
    "#     def __init__(self, val=0, left=None, right=None):\n",
    "#         self.val = val\n",
    "#         self.left = left\n",
    "#         self.right = right\n",
    "# 530. 二叉搜索树的最小绝对差\n",
    "class Solution:\n",
    "    def __init__(self):\n",
    "        self.res = float('inf')\n",
    "        self.pre = None\n",
    "\n",
    "    def getMinimumDifference(self, root: Optional[TreeNode]) -> int:\n",
    "        self.traversal(root)\n",
    "        return self.res\n",
    "\n",
    "    \n",
    "    def traversal(self, root):\n",
    "        if root is None:\n",
    "            return\n",
    "        self.traversal(root.left)\n",
    "        if self.pre is not None and abs(root.val - self.pre.val) < self.res:\n",
    "            self.res = root.val - self.pre.val\n",
    "        self.pre = root\n",
    "        self.traversal(root.right)\n",
    "\n",
    "    \n",
    "\n",
    "        "
   ]
  },
  {
   "cell_type": "code",
   "execution_count": null,
   "metadata": {},
   "outputs": [],
   "source": [
    "# Definition for a binary tree node.\n",
    "# class TreeNode:\n",
    "#     def __init__(self, x):\n",
    "#         self.val = x\n",
    "#         self.left = None\n",
    "#         self.right = None\n",
    "# 最近公共祖先\n",
    "\n",
    "class Solution:\n",
    "    def lowestCommonAncestor(self, root: 'TreeNode', p: 'TreeNode', q: 'TreeNode') -> 'TreeNode':\n",
    "        return self._lowestCommonAncestor(root, p, q)\n",
    "\n",
    "    def _lowestCommonAncestor(self, root, p, q):\n",
    "        if not root:\n",
    "            return\n",
    "        if root.val == p.val or root.val == q.val:\n",
    "            return root\n",
    "        \n",
    "        left = self._lowestCommonAncestor(root.left, p, q)\n",
    "        right = self._lowestCommonAncestor(root.right, p, q)\n",
    "        if left and right:\n",
    "            return root\n",
    "        return left if left is not None else right\n",
    "\n",
    "            "
   ]
  }
 ],
 "metadata": {
  "language_info": {
   "name": "python"
  },
  "orig_nbformat": 4
 },
 "nbformat": 4,
 "nbformat_minor": 2
}
