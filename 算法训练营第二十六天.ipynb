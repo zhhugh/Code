{
 "cells": [
  {
   "cell_type": "code",
   "execution_count": null,
   "metadata": {},
   "outputs": [],
   "source": [
    "class Solution:\n",
    "    def combinationSum(self, candidates: List[int], target: int) -> List[List[int]]:\n",
    "        self.res = []\n",
    "        def dfs(candidates, target, idx, path):\n",
    "            if target < 0:\n",
    "                return\n",
    "            if target == 0:\n",
    "                self.res.append(path[:])\n",
    "            \n",
    "            for i in range(idx, len(candidates)):\n",
    "                dfs(candidates, target - candidates[i], i, path + [candidates[i]])\n",
    "        \n",
    "        dfs(candidates, target, 0, [])\n",
    "        return self.res\n"
   ]
  },
  {
   "cell_type": "code",
   "execution_count": null,
   "metadata": {},
   "outputs": [],
   "source": [
    "class Solution:\n",
    "    def combinationSum2(self, candidates: List[int], target: int) -> List[List[int]]:\n",
    "        candidates.sort()\n",
    "        self.res = []\n",
    "        def dfs(candidates, target, idx, path):\n",
    "            if target < 0:\n",
    "                return\n",
    "            if target == 0:\n",
    "                self.res.append(path[:])\n",
    "            for i in range(idx, len(candidates)):\n",
    "                if i > idx and candidates[i] == candidates[i - 1]:\n",
    "                    continue\n",
    "                dfs(candidates, target - candidates[i], i + 1, path + [candidates[i]])\n",
    "\n",
    "        dfs(candidates, target, 0, [])\n",
    "        return self.res"
   ]
  },
  {
   "cell_type": "code",
   "execution_count": null,
   "metadata": {},
   "outputs": [],
   "source": [
    "# 131. 分割回文串\n",
    "class Solution:\n",
    "    def partition(self, s: str) -> List[List[str]]:\n",
    "        self.res = []\n",
    "        def dfs(s, idx, path):\n",
    "            if idx == len(s):\n",
    "                self.res.append(path[:])\n",
    "                return\n",
    "            \n",
    "            for i in range(idx, len(s)):\n",
    "                if s[idx:i+1] == s[idx:i+1][::-1]:\n",
    "                    dfs(s, i + 1, path + [s[idx:i+1]])\n",
    "            \n",
    "        dfs(s, 0, [])\n",
    "        return self.res\n",
    "\n",
    "\n"
   ]
  }
 ],
 "metadata": {
  "language_info": {
   "name": "python"
  },
  "orig_nbformat": 4
 },
 "nbformat": 4,
 "nbformat_minor": 2
}
