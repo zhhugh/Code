{
 "cells": [
  {
   "cell_type": "code",
   "execution_count": null,
   "metadata": {},
   "outputs": [],
   "source": [
    "# Definition for a binary tree node.\n",
    "# class TreeNode:\n",
    "#     def __init__(self, val=0, left=None, right=None):\n",
    "#         self.val = val\n",
    "#         self.left = left\n",
    "#         self.right = right\n",
    "# 判断是否为平衡二叉树\n",
    "class Solution:\n",
    "    def isBalanced(self, root: Optional[TreeNode]) -> bool:\n",
    "        def _isBalanced(root):\n",
    "            if not root:\n",
    "                return 0\n",
    "            left = _isBalanced(root.left)\n",
    "            right = _isBalanced(root.right)\n",
    "            if left == -1 or right == -1 or abs(left - right) > 1:\n",
    "                return -1\n",
    "            return max(left, right) + 1\n",
    "        res = _isBalanced(root)\n",
    "        return res != -1"
   ]
  },
  {
   "cell_type": "code",
   "execution_count": null,
   "metadata": {},
   "outputs": [],
   "source": [
    "# Definition for a binary tree node.\n",
    "# class TreeNode:\n",
    "#     def __init__(self, val=0, left=None, right=None):\n",
    "#         self.val = val\n",
    "#         self.left = left\n",
    "#         self.right = right\n",
    "class Solution:\n",
    "    def binaryTreePaths(self, root: Optional[TreeNode]) -> List[str]:\n",
    "        res = []\n",
    "        def dfs(root, path):\n",
    "            if not root:\n",
    "                return\n",
    "            if not root.left and not root.right:\n",
    "                res.append(path + [root.val])\n",
    "                return\n",
    "            dfs(root.left, path + [root.val])\n",
    "            dfs(root.right, path + [root.val])\n",
    "        \n",
    "        dfs(root, [])\n",
    "        for j, path in enumerate(res):\n",
    "            s = \"\"\n",
    "            for i in range(len(path)):\n",
    "                if i == 0:\n",
    "                    s += str(path[i])\n",
    "                else:\n",
    "                    s += '->' + str(path[i])\n",
    "            res[j] = s\n",
    "        return res\n",
    "            \n",
    "\n",
    "                \n",
    "            \n"
   ]
  },
  {
   "cell_type": "code",
   "execution_count": null,
   "metadata": {},
   "outputs": [],
   "source": [
    "# Definition for a binary tree node.\n",
    "# class TreeNode:\n",
    "#     def __init__(self, val=0, left=None, right=None):\n",
    "#         self.val = val\n",
    "#         self.left = left\n",
    "#         self.right = right\n",
    "class Solution:\n",
    "    def sumOfLeftLeaves(self, root: Optional[TreeNode]) -> int:\n",
    "        if not root:\n",
    "            return 0\n",
    "        def _sumOfLeftLeaves(root, flag):\n",
    "            if not root:\n",
    "                return 0\n",
    "            if not root.left and not root.right and flag:\n",
    "                return root.val\n",
    "            \n",
    "            return _sumOfLeftLeaves(root.left, True) + _sumOfLeftLeaves(root.right, False)\n",
    "        return _sumOfLeftLeaves(root, False)\n",
    "\n"
   ]
  }
 ],
 "metadata": {
  "language_info": {
   "name": "python"
  },
  "orig_nbformat": 4
 },
 "nbformat": 4,
 "nbformat_minor": 2
}
