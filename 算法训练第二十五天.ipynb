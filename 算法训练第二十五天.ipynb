{
 "cells": [
  {
   "cell_type": "code",
   "execution_count": null,
   "metadata": {},
   "outputs": [],
   "source": [
    "class Solution:\n",
    "    def combinationSum3(self, k: int, n: int) -> List[List[int]]:\n",
    "        self.res = []\n",
    "        def dfs(k, n, path, i):\n",
    "            if n == 0 and k == 0:\n",
    "                self.res.append(path[:])\n",
    "            if n < 0 or k < 0:\n",
    "                return\n",
    "            for j in range(i, 10):\n",
    "                dfs(k - 1, n - j, path + [j], j + 1)\n",
    "        dfs(k, n, [], 1)\n",
    "        return self.res\n",
    "            "
   ]
  },
  {
   "cell_type": "code",
   "execution_count": null,
   "metadata": {},
   "outputs": [],
   "source": [
    "# 电话号码\n",
    "class Solution:\n",
    "    def letterCombinations(self, digits: str) -> List[str]:\n",
    "        self.res = []\n",
    "        self.mp = {\n",
    "            2: 'abc',\n",
    "            3: 'def',\n",
    "            4: 'ghi',\n",
    "            5: 'jkl',\n",
    "            6: 'mno',\n",
    "            7: 'pqrs',\n",
    "            8: 'tuv',\n",
    "            9: 'wxyz'\n",
    "        }\n",
    "        def dfs(digits, i, path):\n",
    "            if i == len(digits):\n",
    "                self.res.append(\"\".join(path))\n",
    "                return\n",
    "            \n",
    "            s = self.mp[int(digits[i])]\n",
    "            for c in s:\n",
    "                dfs(digits, i + 1, path + [c])\n",
    "        if not digits:\n",
    "            return []\n",
    "        dfs(digits, 0, [])\n",
    "        return self.res\n",
    "                    \n",
    "                \n"
   ]
  }
 ],
 "metadata": {
  "language_info": {
   "name": "python"
  },
  "orig_nbformat": 4
 },
 "nbformat": 4,
 "nbformat_minor": 2
}
