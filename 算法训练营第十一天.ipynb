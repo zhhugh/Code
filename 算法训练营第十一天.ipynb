{
 "cells": [
  {
   "cell_type": "code",
   "execution_count": null,
   "metadata": {},
   "outputs": [],
   "source": [
    "# 20. 有效的括号\n",
    "class Solution:\n",
    "    def isValid(self, s: str) -> bool:\n",
    "        def isMatch(a, b):\n",
    "            return (a == '(' and b == ')') or \\\n",
    "                (a == '{' and b == '}') or\\\n",
    "                (a == '[' and b == ']')\n",
    "        stk = []\n",
    "        for c in s:\n",
    "            if len(stk) == 0 or not isMatch(stk[-1], c):\n",
    "                stk.append(c)\n",
    "            else:\n",
    "                stk.pop()\n",
    "        return len(stk) == 0"
   ]
  },
  {
   "cell_type": "code",
   "execution_count": null,
   "metadata": {},
   "outputs": [],
   "source": [
    "# 1047. 删除字符串中的所有相邻重复项\n",
    "class Solution:\n",
    "    def removeDuplicates(self, s: str) -> str:\n",
    "        stk = []\n",
    "        for c in s:\n",
    "            if not stk or stk[-1] != c: # 入栈的条件\n",
    "                stk.append(c)\n",
    "            else:\n",
    "                stk.pop()\n",
    "        return \"\".join(stk)"
   ]
  },
  {
   "cell_type": "code",
   "execution_count": null,
   "metadata": {},
   "outputs": [],
   "source": [
    "# 150. 逆波兰表达式求值\n",
    "class Solution:\n",
    "    def evalRPN(self, tokens: List[str]) -> int:\n",
    "        stk = []\n",
    "        for c in tokens:\n",
    "            if not stk or c not in ['+', '-', '*', '/']:\n",
    "                stk.append(c)\n",
    "            else:\n",
    "                if len(stk) >= 2:\n",
    "                    tmp = 0\n",
    "                    if c == '+':\n",
    "                        tmp = int(stk[-2]) + int(stk[-1])\n",
    "                    if c == '-':\n",
    "                        tmp = int(stk[-2]) - int(stk[-1])\n",
    "                    if c == '*':\n",
    "                        tmp = int(stk[-2]) * int(stk[-1])\n",
    "                    if c == '/':\n",
    "                        tmp = int(stk[-2]) / int(stk[-1])\n",
    "                    stk.pop()\n",
    "                    stk.pop()\n",
    "                    stk.append(tmp)\n",
    "        return int(stk[-1])"
   ]
  }
 ],
 "metadata": {
  "language_info": {
   "name": "python"
  },
  "orig_nbformat": 4
 },
 "nbformat": 4,
 "nbformat_minor": 2
}
