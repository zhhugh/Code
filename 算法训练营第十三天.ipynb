{
 "cells": [
  {
   "cell_type": "code",
   "execution_count": null,
   "metadata": {},
   "outputs": [],
   "source": [
    "# 239. 滑动窗口最大值\n",
    "# 单调队列\n",
    "from collections import deque\n",
    "class Solution:\n",
    "    def maxSlidingWindow(self, nums: List[int], k: int) -> List[int]:\n",
    "        q = deque()\n",
    "        res = []\n",
    "        for i in range(len(nums)):\n",
    "            l = i - k + 1\n",
    "            while q and q[-1] < nums[i]:\n",
    "                q.pop()\n",
    "            q.append(nums[i])\n",
    "            if l >= 0:\n",
    "                res.append(q[0])\n",
    "                if q[0] == nums[l]:\n",
    "                    q.popleft()\n",
    "        return res\n",
    "\n"
   ]
  },
  {
   "cell_type": "code",
   "execution_count": null,
   "metadata": {},
   "outputs": [],
   "source": [
    "# 前k个高频元素，使用优先级队列\n",
    "import heapq\n",
    "class Solution:\n",
    "    def topKFrequent(self, nums: List[int], k: int) -> List[int]:\n",
    "        q = []\n",
    "        mp = {}\n",
    "        for num in nums:\n",
    "            mp[num] = mp.get(num, 0) + 1\n",
    "        for key, v in mp.items():\n",
    "            heapq.heappush(q, (v, key))\n",
    "            if len(q) > k:\n",
    "                heapq.heappop(q)\n",
    "        res = []\n",
    "        for i in range(k):\n",
    "            res.append(q[i][1])\n",
    "        return res"
   ]
  }
 ],
 "metadata": {
  "language_info": {
   "name": "python"
  },
  "orig_nbformat": 4
 },
 "nbformat": 4,
 "nbformat_minor": 2
}
