{
 "cells": [
  {
   "cell_type": "code",
   "execution_count": null,
   "metadata": {},
   "outputs": [],
   "source": [
    "# 300. 最长递增子序列\n",
    "# dp[i], 以nums[i]为结尾的最长递增子序列\n",
    "# dp[i] = max(d[j] + 1) for j in range(0, i)\n",
    "\n",
    "class Solution:\n",
    "    def lengthOfLIS(self, nums: List[int]) -> int:\n",
    "        # dp[i], 以nums[i]为结尾的最长递增子序列\n",
    "        dp = [1] * len(nums)\n",
    "        max_len = 1\n",
    "        for i in range(1, len(nums)):\n",
    "            for j in range(i - 1, -1, -1):\n",
    "                if nums[i] > nums[j]:\n",
    "                    dp[i] = max(dp[j] + 1, dp[i])\n",
    "            max_len = max(dp[i], max_len)\n",
    "        print(dp)\n",
    "        return max_len\n",
    "        "
   ]
  },
  {
   "cell_type": "code",
   "execution_count": null,
   "metadata": {},
   "outputs": [],
   "source": [
    "# 718. 最长重复子数组\n",
    "class Solution:\n",
    "    def findLength(self, nums1: List[int], nums2: List[int]) -> int:\n",
    "        m = len(nums1)\n",
    "        n = len(nums2)\n",
    "        dp = [[0] * n for _ in range(m)]\n",
    "        ans = 0\n",
    "        for i in range(m):\n",
    "            for j in range(n):\n",
    "                if nums1[i] == nums2[j]:\n",
    "                    dp[i][j] = dp[i - 1][j - 1] + 1 if i > 0 and j > 0 else 1\n",
    "                ans = max(ans, dp[i][j])\n",
    "        return  ans"
   ]
  }
 ],
 "metadata": {
  "language_info": {
   "name": "python"
  },
  "orig_nbformat": 4
 },
 "nbformat": 4,
 "nbformat_minor": 2
}
