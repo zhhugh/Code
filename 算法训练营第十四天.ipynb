{
 "cells": [
  {
   "cell_type": "markdown",
   "metadata": {},
   "source": [
    "### 1. 递归遍历"
   ]
  },
  {
   "cell_type": "code",
   "execution_count": null,
   "metadata": {},
   "outputs": [],
   "source": [
    "# Definition for a binary tree node.\n",
    "# class TreeNode:\n",
    "#     def __init__(self, val=0, left=None, right=None):\n",
    "#         self.val = val\n",
    "#         self.left = left\n",
    "#         self.right = right\n",
    "class Solution:\n",
    "    def preorderTraversal(self, root: Optional[TreeNode]) -> List[int]:\n",
    "        ls = []\n",
    "        def _preorderTraversal(root):\n",
    "            if not root:\n",
    "                return\n",
    "            ls.append(root.val)\n",
    "            _preorderTraversal(root.left)\n",
    "            _preorderTraversal(root.right)\n",
    "        _preorderTraversal(root)\n",
    "        return ls"
   ]
  }
 ],
 "metadata": {
  "language_info": {
   "name": "python"
  },
  "orig_nbformat": 4
 },
 "nbformat": 4,
 "nbformat_minor": 2
}
