{
 "cells": [
  {
   "attachments": {},
   "cell_type": "markdown",
   "metadata": {},
   "source": [
    "二分查找 ｜ leetocde704, 35, 34, 27|\n"
   ]
  },
  {
   "attachments": {},
   "cell_type": "markdown",
   "metadata": {},
   "source": [
    "### 1. 704 链接：https://leetcode.cn/problems/binary-search/\n",
    "二分查找的四种写法"
   ]
  },
  {
   "cell_type": "code",
   "execution_count": 3,
   "metadata": {},
   "outputs": [],
   "source": [
    "from typing import List"
   ]
  },
  {
   "cell_type": "code",
   "execution_count": 4,
   "metadata": {},
   "outputs": [],
   "source": [
    "# 左开右开 (l, r)， 指的是搜索区间的左右边界\n",
    "def search(self, nums: List[int], target: int) -> int:\n",
    "    # [l + 1, r - 1] 是搜索区间\n",
    "    l = -1\n",
    "    r = len(nums)\n",
    "    while l + 1 < r:\n",
    "        mid = (l + r) // 2\n",
    "        if nums[mid] == target:\n",
    "            return mid\n",
    "        elif nums[mid] < target:\n",
    "            l = mid\n",
    "        else:\n",
    "            r = mid\n",
    "    return -1"
   ]
  },
  {
   "cell_type": "code",
   "execution_count": 5,
   "metadata": {},
   "outputs": [],
   "source": [
    "#左闭右开\n",
    "def search(self, nums: List[int], target: int) -> int:\n",
    "    l = 0\n",
    "    r = len(nums)\n",
    "    while l < r:\n",
    "        mid = (l + r) // 2\n",
    "        if nums[mid] == target:\n",
    "            return mid\n",
    "        elif nums[mid] < target:\n",
    "            l = mid + 1\n",
    "        elif nums[mid] > target:\n",
    "            r = mid\n",
    "    return -1"
   ]
  },
  {
   "cell_type": "code",
   "execution_count": 6,
   "metadata": {},
   "outputs": [],
   "source": [
    "# 左开右闭(l, r]\n",
    "def search(self, nums: List[int], target: int) -> int:\n",
    "    l = -1\n",
    "    r = len(nums) - 1\n",
    "    while l < r:\n",
    "        mid = (l + r + 1) // 2\n",
    "        if nums[mid] == target:\n",
    "            return mid\n",
    "        elif nums[mid] < target:\n",
    "            l = mid\n",
    "        else:\n",
    "            r = mid - 1\n",
    "    return -1"
   ]
  },
  {
   "cell_type": "code",
   "execution_count": 7,
   "metadata": {},
   "outputs": [],
   "source": [
    "# 左闭右闭\n",
    "def search(self, nums: List[int], target: int) -> int:\n",
    "    l = 0\n",
    "    r = len(nums) - 1\n",
    "    while l <= r:\n",
    "        mid = (l + r) // 2\n",
    "        if nums[mid] == target:\n",
    "            return mid\n",
    "        elif nums[mid] < target:\n",
    "            l = mid + 1\n",
    "        elif nums[mid] > target:\n",
    "            r = mid - 1\n",
    "    return -1"
   ]
  },
  {
   "cell_type": "code",
   "execution_count": 8,
   "metadata": {},
   "outputs": [],
   "source": [
    "# 35. 返回插入位置\n",
    "# [0...l] < target\n",
    "# [r...n-1] > target\n",
    "# [l...r] == target\n",
    "class Solution:\n",
    "    def searchInsert(self, nums: List[int], target: int) -> int:\n",
    "        l = -1\n",
    "        r = len(nums)\n",
    "        while l + 1 < r:\n",
    "            mid = (l + r) // 2\n",
    "            if nums[mid] == target:\n",
    "                return mid\n",
    "            elif nums[mid] < target:\n",
    "                l = mid\n",
    "            else:\n",
    "                r = mid\n",
    "        return r"
   ]
  },
  {
   "cell_type": "code",
   "execution_count": null,
   "metadata": {},
   "outputs": [],
   "source": [
    "# 34. 在排序数组中查找元素的第一个和最后一个位置\n",
    "class Solution:\n",
    "    def searchRange(self, nums: List[int], target: int) -> List[int]:\n",
    "        def lower_bound(nums, target):\n",
    "            l = -1\n",
    "            r = len(nums)\n",
    "            while l + 1 < r:\n",
    "                mid = (l + r) // 2\n",
    "                if nums[mid] < target:\n",
    "                    l = mid\n",
    "                else:\n",
    "                    r = mid\n",
    "            return r\n",
    "        l = lower_bound(nums, target)\n",
    "        if l == len(nums) or nums[l] != target:\n",
    "            return [-1, -1]\n",
    "        r = lower_bound(nums, target + 1)\n",
    "        return [l, r - 1]"
   ]
  },
  {
   "cell_type": "code",
   "execution_count": null,
   "metadata": {},
   "outputs": [],
   "source": [
    "# 27. 移除元素\n",
    "# l 负责遍历数组, r 负责记录不等于 val 的元素的左边界, (r, n-1] 是等于 val 的元素\n",
    "class Solution:\n",
    "    def removeElement(self, nums: List[int], val: int) -> int:\n",
    "        l = 0\n",
    "        r = len(nums) - 1\n",
    "        while l <= r:\n",
    "            if nums[l] == val:\n",
    "                nums[l], nums[r] = nums[r], nums[l]\n",
    "                r -= 1\n",
    "            else:\n",
    "                l += 1\n",
    "        return r + 1"
   ]
  }
 ],
 "metadata": {
  "kernelspec": {
   "display_name": "Python 3",
   "language": "python",
   "name": "python3"
  },
  "language_info": {
   "codemirror_mode": {
    "name": "ipython",
    "version": 3
   },
   "file_extension": ".py",
   "mimetype": "text/x-python",
   "name": "python",
   "nbconvert_exporter": "python",
   "pygments_lexer": "ipython3",
   "version": "3.9.6"
  },
  "orig_nbformat": 4
 },
 "nbformat": 4,
 "nbformat_minor": 2
}
