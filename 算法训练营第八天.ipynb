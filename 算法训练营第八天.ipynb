{
 "cells": [
  {
   "cell_type": "code",
   "execution_count": null,
   "metadata": {},
   "outputs": [],
   "source": [
    "# 1. 344. 反转字符串\n",
    "class Solution:\n",
    "    def reverseString(self, s: List[str]) -> None:\n",
    "        \"\"\"\n",
    "        Do not return anything, modify s in-place instead.\n",
    "        \"\"\"\n",
    "        l = 0\n",
    "        r = len(s) - 1\n",
    "        while l < r:\n",
    "            s[l], s[r] = s[r], s[l]\n",
    "            l += 1\n",
    "            r -= 1\n",
    "        return s"
   ]
  },
  {
   "cell_type": "code",
   "execution_count": null,
   "metadata": {},
   "outputs": [],
   "source": [
    "# 2. 541. 反转字符串 II\n",
    "class Solution:\n",
    "    def reverseStr(self, s: str, k: int) -> str:\n",
    "        n = len(s)\n",
    "        s = list(s)\n",
    "        i = 0\n",
    "        while i < n:\n",
    "            if n - i < k:\n",
    "                s[i:] = s[i:][::-1]\n",
    "            else:\n",
    "                s[i:i+k] = s[i:i+k][::-1]\n",
    "            i += 2 * k\n",
    "        s = \"\".join(s)\n",
    "        return s"
   ]
  },
  {
   "cell_type": "code",
   "execution_count": null,
   "metadata": {},
   "outputs": [],
   "source": [
    "# 替换空格\n",
    "# 1. 先计算空格个数，计算改变后的总数组长度\n",
    "# 设置双指针 left right\n",
    "class Solution:\n",
    "    def replaceSpace(self, s: str) -> str:\n",
    "        s = list(s)\n",
    "        len1 = len(s)\n",
    "        space_cnt = 0\n",
    "        for c in s:\n",
    "            if c == ' ':\n",
    "                space_cnt += 1\n",
    "        s += [' '] * space_cnt * 2\n",
    "        n = len(s)\n",
    "        i = n - 1\n",
    "        for j in range(len1 - 1, -1, -1):\n",
    "            if s[j] == ' ':\n",
    "                s[i] = '0'\n",
    "                s[i - 1] = '2'\n",
    "                s[i - 2] = '%'\n",
    "                i -= 3\n",
    "            else:\n",
    "                s[i] = s[j]\n",
    "                i -= 1\n",
    "        return \"\".join(s)"
   ]
  },
  {
   "cell_type": "code",
   "execution_count": null,
   "metadata": {},
   "outputs": [],
   "source": [
    "# 剑指 Offer 58 - II. 左旋转字符串\n",
    "# A...BC....D -> C....DA...B\n",
    "# 如果反着读，那么D...CB...A， 那么DC是反的， BA也是反的，所以先吧DC反过来，再把BA反过来，最后把整个字符串反过来\n",
    "class Solution:\n",
    "    def reverseLeftWords(self, s: str, n: int) -> str:\n",
    "        s = list(s)\n",
    "        s[:n] = s[:n][::-1]\n",
    "        s[n:] = s[n:][::-1]\n",
    "        s[:] = s[::-1]\n",
    "        return \"\".join(s)"
   ]
  }
 ],
 "metadata": {
  "language_info": {
   "name": "python"
  },
  "orig_nbformat": 4
 },
 "nbformat": 4,
 "nbformat_minor": 2
}
